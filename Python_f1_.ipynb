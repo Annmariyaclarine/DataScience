{
 "cells": [
  {
   "cell_type": "code",
   "execution_count": 3,
   "id": "97a49892",
   "metadata": {},
   "outputs": [
    {
     "name": "stdout",
     "output_type": "stream",
     "text": [
      "hello\n"
     ]
    }
   ],
   "source": [
    "print(\"hello\")"
   ]
  },
  {
   "cell_type": "code",
   "execution_count": 17,
   "id": "cc6e609c",
   "metadata": {},
   "outputs": [
    {
     "name": "stdout",
     "output_type": "stream",
     "text": [
      "basic datatypes\n"
     ]
    }
   ],
   "source": [
    "print(\"basic datatypes\")"
   ]
  },
  {
   "cell_type": "code",
   "execution_count": 8,
   "id": "26c99a2e",
   "metadata": {},
   "outputs": [
    {
     "name": "stdout",
     "output_type": "stream",
     "text": [
      "1.5\n",
      "<class 'float'>\n"
     ]
    }
   ],
   "source": [
    "f=1.5\n",
    "print(f)\n",
    "print(type(f))"
   ]
  },
  {
   "cell_type": "code",
   "execution_count": 7,
   "id": "7c8a65d7",
   "metadata": {},
   "outputs": [
    {
     "name": "stdout",
     "output_type": "stream",
     "text": [
      "<class 'int'>\n"
     ]
    }
   ],
   "source": [
    "a=5\n",
    "print(type(a))"
   ]
  },
  {
   "cell_type": "code",
   "execution_count": 9,
   "id": "3a9cdfb3",
   "metadata": {},
   "outputs": [
    {
     "name": "stdout",
     "output_type": "stream",
     "text": [
      "hello\n",
      "<class 'str'>\n"
     ]
    }
   ],
   "source": [
    "s=\"hello\"\n",
    "print(s)\n",
    "print(type(s))"
   ]
  },
  {
   "cell_type": "code",
   "execution_count": 12,
   "id": "c6d74a77",
   "metadata": {},
   "outputs": [
    {
     "name": "stdout",
     "output_type": "stream",
     "text": [
      "True\n",
      "<class 'bool'>\n"
     ]
    }
   ],
   "source": [
    "b=True \n",
    "print(b)\n",
    "print(type(b))"
   ]
  },
  {
   "cell_type": "code",
   "execution_count": 13,
   "id": "278da793",
   "metadata": {},
   "outputs": [
    {
     "name": "stdout",
     "output_type": "stream",
     "text": [
      "(5+3j)\n",
      "<class 'complex'>\n"
     ]
    }
   ],
   "source": [
    "t=5+3j\n",
    "print(t)\n",
    "print(type(t))\n"
   ]
  },
  {
   "cell_type": "code",
   "execution_count": 21,
   "id": "42cd822e",
   "metadata": {},
   "outputs": [
    {
     "name": "stdout",
     "output_type": "stream",
     "text": [
      "basic arithmetic operators\n",
      "10\n",
      "4\n",
      "21\n",
      "2.3333333333333335\n",
      "2\n",
      "1\n",
      "343\n"
     ]
    }
   ],
   "source": [
    "print(\"basic arithmetic operators\")\n",
    "a=7\n",
    "b=3\n",
    "ab_sum=a+b\n",
    "print(ab_sum)\n",
    "ab_diff=a-b\n",
    "print(ab_diff)\n",
    "ab_pro=a*b\n",
    "print(ab_pro)\n",
    "ab_quo=a/b\n",
    "print(ab_quo)\n",
    "ab_iquo=(a//b)\n",
    "print(ab_iquo)\n",
    "ab_rem=a%b\n",
    "print(ab_rem)\n",
    "ab_pow=a**b\n",
    "print(ab_pow)\n"
   ]
  },
  {
   "cell_type": "code",
   "execution_count": 23,
   "id": "21c9808e",
   "metadata": {},
   "outputs": [
    {
     "name": "stdout",
     "output_type": "stream",
     "text": [
      "basic boolean operations\n",
      "True False\n",
      "True\n",
      "False\n",
      "False\n",
      "True\n",
      "True\n"
     ]
    }
   ],
   "source": [
    "print(\"basic boolean operations\")\n",
    "T=True\n",
    "F=False\n",
    "print(T,F)\n",
    "p=5>3\n",
    "print(p)\n",
    "q=-1<-12.5\n",
    "print(q)\n",
    "print(p and q)\n",
    "print(p or q)\n",
    "print(not q)\n"
   ]
  },
  {
   "cell_type": "code",
   "execution_count": 26,
   "id": "911dbcf4",
   "metadata": {},
   "outputs": [
    {
     "name": "stdout",
     "output_type": "stream",
     "text": [
      "hello\n",
      "hello\n",
      "python world\n"
     ]
    }
   ],
   "source": [
    "print(\"string operations\")\n",
    "s='hello'\n",
    "u=\"hello\"\n",
    "print(s)\n",
    "print(u)\n",
    "s1=\"python\"\n",
    "s2='world'\n",
    "s3=s1+' '+s2\n",
    "print(s3)\n",
    "\n"
   ]
  },
  {
   "cell_type": "code",
   "execution_count": 45,
   "id": "ed4b9112",
   "metadata": {},
   "outputs": [
    {
     "name": "stdout",
     "output_type": "stream",
     "text": [
      "python world 1011\n",
      "17\n",
      "PYTHON WORLD 1011\n",
      "Python world 1011\n",
      "python world 1011\n",
      "['hello', 'how', 'are', 'you']\n",
      "beek\n",
      "2\n",
      "-1\n"
     ]
    }
   ],
   "source": [
    "s3='%s %s %d'%(s1,s2,1011)\n",
    "print(s3)\n",
    "print(len(s3))\n",
    "print(s3.upper())\n",
    "print(s3.capitalize())\n",
    "print(s3.lower())\n",
    "print(\"hello how are you\".split())\n",
    "print('book'.replace('o','e'))\n",
    "word=\"jewellery\"\n",
    "print(word.find(\"well\"))\n",
    "print(word.find(\"is\"))"
   ]
  },
  {
   "cell_type": "code",
   "execution_count": 48,
   "id": "335c1f7d",
   "metadata": {},
   "outputs": [
    {
     "name": "stdout",
     "output_type": "stream",
     "text": [
      "if else\n",
      "123\n",
      "3 digit\n"
     ]
    }
   ],
   "source": [
    "print(\"if else\")\n",
    "num=123\n",
    "print(num)\n",
    "if num > 99 and num < 1000:\n",
    "    print('3 digit')\n",
    "\n",
    "else:\n",
    "\n",
    "    print('Not 3 digit')"
   ]
  },
  {
   "cell_type": "code",
   "execution_count": 52,
   "id": "7ef253f2",
   "metadata": {},
   "outputs": [
    {
     "name": "stdout",
     "output_type": "stream",
     "text": [
      "are you familiar with python : fhgfg\n",
      "sorry !! wrong input\n"
     ]
    }
   ],
   "source": [
    "response=input(\"are you familiar with python : \")\n",
    "if response.upper()=='YES':\n",
    "    print(\"you can skip the course\")\n",
    "elif response.upper()=='NO':\n",
    "    print(\"you are at right place\")\n",
    "else:\n",
    "    print(\"sorry !! wrong input\")"
   ]
  },
  {
   "cell_type": "code",
   "execution_count": 56,
   "id": "80c9ea42",
   "metadata": {},
   "outputs": [
    {
     "name": "stdout",
     "output_type": "stream",
     "text": [
      "0,1,2,3,4,5,6,7,8,9,"
     ]
    }
   ],
   "source": [
    "for x in range(10):\n",
    "    print(x,end=',')"
   ]
  },
  {
   "cell_type": "code",
   "execution_count": 67,
   "id": "17e92aff",
   "metadata": {},
   "outputs": [
    {
     "name": "stdout",
     "output_type": "stream",
     "text": [
      "enter limit:15\n",
      "odd sum=64\n"
     ]
    }
   ],
   "source": [
    "limit=int(input(\"enter limit:\"))\n",
    "sum=0\n",
    "for i in range(1,limit+1):\n",
    "    if(i%2!=0):\n",
    "        sum+=i\n",
    "print(\"odd sum=\"+str(sum))"
   ]
  },
  {
   "cell_type": "code",
   "execution_count": 61,
   "id": "776e2f4a",
   "metadata": {},
   "outputs": [
    {
     "name": "stdout",
     "output_type": "stream",
     "text": [
      "[0, 1, 2, 3, 4, 5, 6, 7, 8, 9]\n",
      "[1, 2, 3, 4, 5, 6, 7, 8, 9]\n",
      "[1, 3, 5, 7, 9]\n"
     ]
    }
   ],
   "source": [
    "print(list(range(10)))\n",
    "print(list(range(1,10)))\n",
    "print(list(range(1,10,2)))\n"
   ]
  },
  {
   "cell_type": "code",
   "execution_count": 63,
   "id": "a0e23c25",
   "metadata": {},
   "outputs": [
    {
     "name": "stdout",
     "output_type": "stream",
     "text": [
      "enter number1254\n",
      "12\n"
     ]
    }
   ],
   "source": [
    "number=int(input(\"enter number\"))\n",
    "s=0\n",
    "while number>0:\n",
    "    s+=number%10\n",
    "    number=number//10\n",
    "print(s)"
   ]
  },
  {
   "cell_type": "code",
   "execution_count": 69,
   "id": "c02108e9",
   "metadata": {},
   "outputs": [
    {
     "name": "stdout",
     "output_type": "stream",
     "text": [
      "enter number: 400\n",
      "2 3 5 7 11 13 17 19 23 29 31 37 41 43 47 53 59 61 67 71 73 79 83 89 97 101 103 107 109 113 127 131 137 139 149 151 157 163 167 173 179 181 191 193 197 199 211 223 227 229 233 239 241 251 257 263 269 271 277 281 283 293 307 311 313 317 331 337 347 349 353 359 367 373 379 383 389 397 "
     ]
    }
   ],
   "source": [
    "limit=int(input(\"enter number: \"))\n",
    "for num in range(2,limit+1):\n",
    "    is_divisible=False\n",
    "    k=2\n",
    "    while k <= num//2 :\n",
    "\n",
    "        if num % k == 0:\n",
    "            is_divisible=True\n",
    "            break;\n",
    "\n",
    "        k += 1\n",
    "\n",
    "    if not is_divisible:\n",
    "            print(num,end=' ')"
   ]
  },
  {
   "cell_type": "code",
   "execution_count": 8,
   "id": "ad1d2980",
   "metadata": {},
   "outputs": [
    {
     "name": "stdout",
     "output_type": "stream",
     "text": [
      "Containers LIST \n",
      "['a', 'b', 1, 1.2, True]\n"
     ]
    }
   ],
   "source": [
    "print(\"Containers LIST \")\n",
    "mylist = ['a','b', 1, 1.2, True]\n",
    "print(mylist)"
   ]
  },
  {
   "cell_type": "code",
   "execution_count": 71,
   "id": "cc7fcfa3",
   "metadata": {},
   "outputs": [
    {
     "name": "stdout",
     "output_type": "stream",
     "text": [
      "['a', 'b', 1, 1.2, True, 'new']\n"
     ]
    }
   ],
   "source": [
    "mylist.append('new')\n",
    "\n",
    "print(mylist)"
   ]
  },
  {
   "cell_type": "code",
   "execution_count": 72,
   "id": "61d90843",
   "metadata": {},
   "outputs": [
    {
     "name": "stdout",
     "output_type": "stream",
     "text": [
      "new\n"
     ]
    }
   ],
   "source": [
    "print(mylist.pop())"
   ]
  },
  {
   "cell_type": "code",
   "execution_count": 76,
   "id": "3e68fa30",
   "metadata": {},
   "outputs": [
    {
     "name": "stdout",
     "output_type": "stream",
     "text": [
      "['a', 'b', 'new', 1, 1.2, True]\n"
     ]
    }
   ],
   "source": [
    "mylist.insert(2,'new')\n",
    "print(mylist)"
   ]
  },
  {
   "cell_type": "code",
   "execution_count": 77,
   "id": "c53edf72",
   "metadata": {},
   "outputs": [
    {
     "name": "stdout",
     "output_type": "stream",
     "text": [
      "['a', 'b', 1, 1.2, True]\n"
     ]
    }
   ],
   "source": [
    "mylist.remove('new')\n",
    "print(mylist)"
   ]
  },
  {
   "cell_type": "code",
   "execution_count": 79,
   "id": "54a248ff",
   "metadata": {},
   "outputs": [
    {
     "name": "stdout",
     "output_type": "stream",
     "text": [
      "['a', 'b', 1, 1.2, True, [1, 2, 3], [1, 2, 3]]\n"
     ]
    }
   ],
   "source": [
    "b = [1,2,3]\n",
    "\n",
    "mylist.append(b)\n",
    "print(mylist)"
   ]
  },
  {
   "cell_type": "code",
   "execution_count": 80,
   "id": "5c5b2f34",
   "metadata": {},
   "outputs": [
    {
     "name": "stdout",
     "output_type": "stream",
     "text": [
      "['a', 'b', 1, 1.2, True, [1, 2, 3]]\n"
     ]
    }
   ],
   "source": [
    "mylist.remove(b)\n",
    "print(mylist)"
   ]
  },
  {
   "cell_type": "code",
   "execution_count": 81,
   "id": "1e7edbde",
   "metadata": {},
   "outputs": [
    {
     "name": "stdout",
     "output_type": "stream",
     "text": [
      "['a', 'b', 1, 1.2, True, [1, 2, 3], 1, 2, 3]\n"
     ]
    }
   ],
   "source": [
    "mylist.extend(b)\n",
    "print(mylist)"
   ]
  },
  {
   "cell_type": "code",
   "execution_count": 82,
   "id": "26e32b7b",
   "metadata": {},
   "outputs": [
    {
     "name": "stdout",
     "output_type": "stream",
     "text": [
      "[1, 2, 3, 4, 5]\n"
     ]
    }
   ],
   "source": [
    "a=[2,3,1,4,5]\n",
    "a.sort()\n",
    "print(a)"
   ]
  },
  {
   "cell_type": "code",
   "execution_count": 83,
   "id": "de7fb8fe",
   "metadata": {},
   "outputs": [
    {
     "name": "stdout",
     "output_type": "stream",
     "text": [
      "['h', 'e', 'l', 'l', 'o']\n"
     ]
    }
   ],
   "source": [
    "print(list('hello'))"
   ]
  },
  {
   "cell_type": "code",
   "execution_count": 9,
   "id": "cdecfd17",
   "metadata": {},
   "outputs": [
    {
     "name": "stdout",
     "output_type": "stream",
     "text": [
      "Containers LIST SLICING \n",
      "2 10\n"
     ]
    }
   ],
   "source": [
    "print(\"Containers LIST SLICING \")\n",
    "numbers=[1,2,3,4,5,6,7,8,9,10]\n",
    "print(numbers[1],numbers[-1])"
   ]
  },
  {
   "cell_type": "code",
   "execution_count": 86,
   "id": "f8655b07",
   "metadata": {},
   "outputs": [
    {
     "name": "stdout",
     "output_type": "stream",
     "text": [
      "[6, 7, 8, 9, 10]\n"
     ]
    }
   ],
   "source": [
    "sliced=numbers[5:11]\n",
    "print(sliced)"
   ]
  },
  {
   "cell_type": "code",
   "execution_count": 88,
   "id": "ac0b6e34",
   "metadata": {},
   "outputs": [
    {
     "name": "stdout",
     "output_type": "stream",
     "text": [
      "[6, 7, 8, 9, 10]\n"
     ]
    }
   ],
   "source": [
    "sliced=numbers[5:]\n",
    "print(sliced)"
   ]
  },
  {
   "cell_type": "code",
   "execution_count": 90,
   "id": "430883f1",
   "metadata": {},
   "outputs": [
    {
     "name": "stdout",
     "output_type": "stream",
     "text": [
      "[8, 9, 10]\n"
     ]
    }
   ],
   "source": [
    "sliced=numbers[7:]\n",
    "print(sliced)"
   ]
  },
  {
   "cell_type": "code",
   "execution_count": 91,
   "id": "1a92ce04",
   "metadata": {},
   "outputs": [
    {
     "name": "stdout",
     "output_type": "stream",
     "text": [
      "[9, 10]\n"
     ]
    }
   ],
   "source": [
    "sliced=numbers[-2:]\n",
    "print(sliced)"
   ]
  },
  {
   "cell_type": "code",
   "execution_count": 10,
   "id": "734b466f",
   "metadata": {},
   "outputs": [
    {
     "name": "stdout",
     "output_type": "stream",
     "text": [
      "Containers LIST COMPREHENSION \n",
      "[1, 2, 3, 4, 5, 6, 7]\n"
     ]
    }
   ],
   "source": [
    "\n",
    "print(\"Containers LIST COMPREHENSION \")\n",
    "numbers = list(range(1, 8))\n",
    "\n",
    "print(numbers)"
   ]
  },
  {
   "cell_type": "code",
   "execution_count": 2,
   "id": "9f4b9d10",
   "metadata": {},
   "outputs": [
    {
     "name": "stdout",
     "output_type": "stream",
     "text": [
      "[1, 4, 9, 16, 25, 36, 49]\n"
     ]
    }
   ],
   "source": [
    "square=[]\n",
    "for i in numbers:\n",
    "    square.append(pow(i,2))\n",
    "print(square)"
   ]
  },
  {
   "cell_type": "code",
   "execution_count": 4,
   "id": "1e60bea5",
   "metadata": {},
   "outputs": [
    {
     "name": "stdout",
     "output_type": "stream",
     "text": [
      "[1, 4, 9, 16, 25, 36, 49]\n"
     ]
    }
   ],
   "source": [
    "square = [x**2 for x in numbers]\n",
    "print(square)"
   ]
  },
  {
   "cell_type": "code",
   "execution_count": 5,
   "id": "d80005bf",
   "metadata": {},
   "outputs": [
    {
     "name": "stdout",
     "output_type": "stream",
     "text": [
      "[1, 9, 25, 49]\n"
     ]
    }
   ],
   "source": [
    "odd_square=[x**2 for x in numbers if x%2!=0]\n",
    "print(odd_square)"
   ]
  },
  {
   "cell_type": "code",
   "execution_count": 7,
   "id": "e85305fe",
   "metadata": {},
   "outputs": [
    {
     "name": "stdout",
     "output_type": "stream",
     "text": [
      "[(4, 6), (4, 8), (4, 9), (6, 4), (6, 8), (6, 9), (8, 4), (8, 6), (8, 9), (9, 4), (9, 6), (9, 8)]\n"
     ]
    }
   ],
   "source": [
    "A=[4,6,8,9]\n",
    "AxA=[(a,b) for a in A for b in A if a!=b]\n",
    "print(AxA)"
   ]
  },
  {
   "cell_type": "code",
   "execution_count": 23,
   "id": "fa5b5523",
   "metadata": {},
   "outputs": [
    {
     "name": "stdout",
     "output_type": "stream",
     "text": [
      "Containers DICTIONARY \n",
      "\n",
      "\n",
      "manu\n",
      "True\n",
      "False\n",
      "\n",
      "\n",
      "{'name': 'manu', 'age': 28, 'sex': 'male'}\n",
      "\n",
      "\n",
      "name manu\n",
      "age 28\n",
      "sex male\n",
      "\n",
      "\n",
      "Name \t:\t manu\n",
      "Age \t:\t 28\n",
      "Sex \t:\t male\n",
      "\n",
      "\n",
      "dict_keys(['name', 'age', 'sex'])\n"
     ]
    }
   ],
   "source": [
    "print(\"Containers DICTIONARY \")\n",
    "print('\\n')\n",
    "person={'name':'manu','age':28}\n",
    "print(person['name'])\n",
    "print('name' in person)\n",
    "print('sex' in person)\n",
    "print('\\n')\n",
    "person['sex']='male'\n",
    "print(person)\n",
    "print('\\n')\n",
    "for item in person:\n",
    "    print(item,person[item])\n",
    "print('\\n')\n",
    "for (key,value) in person.items():\n",
    "    print(key.capitalize(),'\\t:\\t',value)\n",
    "print('\\n')\n",
    "print(person.keys())"
   ]
  },
  {
   "cell_type": "code",
   "execution_count": 77,
   "id": "92c1a3a1",
   "metadata": {},
   "outputs": [
    {
     "name": "stdout",
     "output_type": "stream",
     "text": [
      "containers TUPLES\n",
      "\n",
      "\n",
      "(1, 2, 3) (4, 5, 6)\n",
      "(1, 2, 3, 4, 5, 6)\n",
      "('a', 'b', 'c', 'd')\n"
     ]
    }
   ],
   "source": [
    "print('containers TUPLES')\n",
    "print('\\n')\n",
    "t1=(1,2,3)\n",
    "t2=4,5,6\n",
    "print(t1,t2)\n",
    "t3=t1+t2\n",
    "print(t3)\n",
    "lt = tuple(['a','b','c','d']) \n",
    "print(lt)\n"
   ]
  },
  {
   "cell_type": "code",
   "execution_count": 76,
   "id": "b120ea74",
   "metadata": {},
   "outputs": [
    {
     "ename": "TypeError",
     "evalue": "'tuple' object does not support item assignment",
     "output_type": "error",
     "traceback": [
      "\u001b[0;31m---------------------------------------------------------------------------\u001b[0m",
      "\u001b[0;31mTypeError\u001b[0m                                 Traceback (most recent call last)",
      "\u001b[0;32m/tmp/ipykernel_3503/1719485783.py\u001b[0m in \u001b[0;36m<module>\u001b[0;34m\u001b[0m\n\u001b[0;32m----> 1\u001b[0;31m \u001b[0mlt\u001b[0m\u001b[0;34m[\u001b[0m\u001b[0;36m2\u001b[0m\u001b[0;34m]\u001b[0m \u001b[0;34m=\u001b[0m \u001b[0;34m'x'\u001b[0m\u001b[0;34m\u001b[0m\u001b[0;34m\u001b[0m\u001b[0m\n\u001b[0m",
      "\u001b[0;31mTypeError\u001b[0m: 'tuple' object does not support item assignment"
     ]
    }
   ],
   "source": [
    "lt[2] = 'x'"
   ]
  },
  {
   "cell_type": "code",
   "execution_count": 32,
   "id": "58c4fec7",
   "metadata": {},
   "outputs": [
    {
     "name": "stdout",
     "output_type": "stream",
     "text": [
      "<class 'int'>\n"
     ]
    }
   ],
   "source": [
    "s=(3)\n",
    "print(type(s))\n"
   ]
  },
  {
   "cell_type": "code",
   "execution_count": 34,
   "id": "8ed21e35",
   "metadata": {},
   "outputs": [
    {
     "name": "stdout",
     "output_type": "stream",
     "text": [
      "<class 'tuple'>\n"
     ]
    }
   ],
   "source": [
    "s=(3,)\n",
    "print(type(s))"
   ]
  },
  {
   "cell_type": "code",
   "execution_count": 41,
   "id": "0cf9d774",
   "metadata": {},
   "outputs": [
    {
     "name": "stdout",
     "output_type": "stream",
     "text": [
      "containers SET\n",
      "\n",
      "\n",
      "{1, 2, 3} <class 'set'>\n",
      "{'cherry', 'apple'}\n",
      "set()\n",
      "{'c', 'a', 'b', 1, 2, 3}\n",
      "{'apple'}\n",
      "[1, 2, 3, 4, 5, 6, 7]\n"
     ]
    }
   ],
   "source": [
    "print('containers SET')\n",
    "print('\\n')\n",
    "s={1,2,3}\n",
    "print(s,type(s))\n",
    "fset={\"apple\",\"banana\",\"cherry\"}\n",
    "fset.discard(\"banana\")\n",
    "print(fset)\n",
    "fset = {\"apple\", \"banana\", \"cherry\"}\n",
    "fset.clear()\n",
    "print(fset)\n",
    "set1={\"a\",\"b\",\"c\"}\n",
    "set2={1,2,3}\n",
    "set3=set1.union(set2)\n",
    "print(set3)\n",
    "x = {\"apple\", \"banana\", \"cherry\"}\n",
    "y = {\"google\", \"microsoft\", \"apple\"}\n",
    "z=x.intersection(y)\n",
    "print(z)\n",
    "lst = [1,2,3,4,5,5,5,7,6]\n",
    "myset = list(set(lst))\n",
    "print(myset)"
   ]
  },
  {
   "cell_type": "code",
   "execution_count": 44,
   "id": "e41b281b",
   "metadata": {},
   "outputs": [
    {
     "name": "stdout",
     "output_type": "stream",
     "text": [
      "functions\n",
      "\n",
      "\n",
      "10\n"
     ]
    }
   ],
   "source": [
    "print('functions')\n",
    "print('\\n')\n",
    "def twice(number):\n",
    "    return 2*number\n",
    "t=twice(5)\n",
    "print(t)\n"
   ]
  },
  {
   "cell_type": "code",
   "execution_count": 65,
   "id": "626180ea",
   "metadata": {},
   "outputs": [
    {
     "name": "stdout",
     "output_type": "stream",
     "text": [
      "prime number\n"
     ]
    }
   ],
   "source": [
    "    print(\"prime number\")"
   ]
  },
  {
   "cell_type": "code",
   "execution_count": 63,
   "id": "858efe73",
   "metadata": {},
   "outputs": [
    {
     "name": "stdout",
     "output_type": "stream",
     "text": [
      "Enter the number 10\n",
      "False\n"
     ]
    }
   ],
   "source": [
    "def isPrime(number):\n",
    "    for factor in range(2, (number//2)+1): \n",
    "        if number%factor == 0:\n",
    "            return False\n",
    "    return True\n",
    "number = int(input('Enter the number '))\n",
    "print(isPrime(number))  "
   ]
  },
  {
   "cell_type": "code",
   "execution_count": 64,
   "id": "5348a63b",
   "metadata": {},
   "outputs": [
    {
     "name": "stdout",
     "output_type": "stream",
     "text": [
      "5 7 11 13 17 19 23 29 31 37 41 43 47 "
     ]
    }
   ],
   "source": [
    "def printPrimes(llimit, ulimit):\n",
    "    for num in range(llimit, ulimit + 1):\n",
    "        if isPrime(num) == True:\n",
    "            print(num, end = ' ')\n",
    "printPrimes(5,50)"
   ]
  },
  {
   "cell_type": "code",
   "execution_count": 51,
   "id": "33ae36de",
   "metadata": {},
   "outputs": [
    {
     "name": "stdout",
     "output_type": "stream",
     "text": [
      "7 5\n"
     ]
    }
   ],
   "source": [
    "def swap(x,y):\n",
    "    t = x\n",
    "    x = y\n",
    "    y = t\n",
    "    return x,y\n",
    "\n",
    "a=5\n",
    "b=7\n",
    "a,b = swap(a,b)\n",
    "print(a,b)"
   ]
  },
  {
   "cell_type": "code",
   "execution_count": 74,
   "id": "bcd3c572",
   "metadata": {},
   "outputs": [
    {
     "name": "stdout",
     "output_type": "stream",
     "text": [
      "CLASS\n"
     ]
    }
   ],
   "source": [
    "print(\"CLASS\")\n",
    "class Adder:\n",
    "    def init(self):\n",
    "        self.x=0\n",
    "        self.y=0\n",
    "    def setValues(self,x,y):\n",
    "        self.x=x\n",
    "        self.y=y\n",
    "    def calculate(self1):\n",
    "        self1.sum = self1.x + self1.y\n",
    "    def getSum(self):\n",
    "        return self.sum"
   ]
  },
  {
   "cell_type": "code",
   "execution_count": 75,
   "id": "9ebe69dd",
   "metadata": {},
   "outputs": [
    {
     "name": "stdout",
     "output_type": "stream",
     "text": [
      "9\n"
     ]
    }
   ],
   "source": [
    "adder =Adder()\n",
    "adder.setValues(5,4)\n",
    "adder.calculate()\n",
    "print(adder.getSum())\n",
    "    "
   ]
  },
  {
   "cell_type": "code",
   "execution_count": null,
   "id": "6b6c2b53",
   "metadata": {},
   "outputs": [],
   "source": []
  },
  {
   "cell_type": "code",
   "execution_count": null,
   "id": "1836631c",
   "metadata": {},
   "outputs": [],
   "source": []
  },
  {
   "cell_type": "code",
   "execution_count": null,
   "id": "ac224c38",
   "metadata": {},
   "outputs": [],
   "source": []
  },
  {
   "cell_type": "code",
   "execution_count": null,
   "id": "4de707f2",
   "metadata": {},
   "outputs": [],
   "source": []
  },
  {
   "cell_type": "code",
   "execution_count": null,
   "id": "57add6b8",
   "metadata": {},
   "outputs": [],
   "source": []
  }
 ],
 "metadata": {
  "kernelspec": {
   "display_name": "Python 3 (ipykernel)",
   "language": "python",
   "name": "python3"
  },
  "language_info": {
   "codemirror_mode": {
    "name": "ipython",
    "version": 3
   },
   "file_extension": ".py",
   "mimetype": "text/x-python",
   "name": "python",
   "nbconvert_exporter": "python",
   "pygments_lexer": "ipython3",
   "version": "3.9.7"
  }
 },
 "nbformat": 4,
 "nbformat_minor": 5
}
