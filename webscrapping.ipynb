{
  "nbformat": 4,
  "nbformat_minor": 0,
  "metadata": {
    "colab": {
      "provenance": []
    },
    "kernelspec": {
      "name": "python3",
      "display_name": "Python 3"
    },
    "language_info": {
      "name": "python"
    }
  },
  "cells": [
    {
      "cell_type": "code",
      "execution_count": 1,
      "metadata": {
        "id": "TdhoeMktDPyg"
      },
      "outputs": [],
      "source": [
        "import requests\n",
        "import bs4\n",
        "from bs4 import BeautifulSoup"
      ]
    },
    {
      "cell_type": "code",
      "source": [
        "URL = \"https://economictimes.indiatimes.com/markets/stocks/news\""
      ],
      "metadata": {
        "id": "h3H6pnG6DoHH"
      },
      "execution_count": 2,
      "outputs": []
    },
    {
      "cell_type": "code",
      "source": [
        "headers = {\n",
        "    'user - Agent': 'Mozilla/5.0 (Windows NT 10.0; Win64; x64) AppleWebKit/537.36 (KHTML, like Gecko) Chrome/98.0.4758.102 Safari/537.36 Edg/98.0.1108.56'\n",
        "}"
      ],
      "metadata": {
        "id": "emdeSo_oDr--"
      },
      "execution_count": 3,
      "outputs": []
    },
    {
      "cell_type": "code",
      "source": [
        "r = requests.get(URL,{'headers':headers})"
      ],
      "metadata": {
        "id": "wLKYZPv7DtaX"
      },
      "execution_count": 4,
      "outputs": []
    },
    {
      "cell_type": "code",
      "source": [
        "soup=bs4.BeautifulSoup(r.text,'html.parser')"
      ],
      "metadata": {
        "id": "quWoxf_8Dwbm"
      },
      "execution_count": 5,
      "outputs": []
    },
    {
      "cell_type": "code",
      "source": [
        "i=0\n",
        "while i<10:\n",
        "    print(i+1)\n",
        "    print(soup.find_all('div',{'class':'eachStory'})[i].find_all('a')[-1].text)\n",
        "    print(soup.find_all('div',{'class':'eachStory'})[i].find_all('p')[-1].text)\n",
        "    i+=1"
      ],
      "metadata": {
        "colab": {
          "base_uri": "https://localhost:8080/"
        },
        "id": "B0Pw_MRLD1x3",
        "outputId": "d21e020d-4513-4ab4-99df-093ee27e681f"
      },
      "execution_count": 6,
      "outputs": [
        {
          "output_type": "stream",
          "name": "stdout",
          "text": [
            "1\n",
            "3 smallcap construction & contracting companies with upside potential of up to 57%\n",
            "Thanks to increased government spending on infrastructure, construction and contracting companies are back in focus, though only a select few. ET screener powered by Refinitiv’s Stock Report Plus lists down stocks with high upside potential over the next 12 months, having an average recommendation rating of “buy” or \"strong buy\".\n",
            "2\n",
            "Time to invest in a balanced approach with a mix of equity & debt in the ratio of 60:40\n",
            "Financially, the industry’s revival is expected to continue in the second half of FY23 due to pent-up demand and low base despite a minor semiconductor shortage, but valuations have gotten elevated.\n",
            "3\n",
            "Newbie retail investors flocking to the stock market: Who will gain & who will lose?\n",
            "The healthy trend in the market is the steadily rising number of mutual fund investors. It is a fact that most retail investors don’t have the expertise to invest in the market successfully.\n",
            "4\n",
            "Learn with ETMarkets: Why buy individual stocks when you can choose index funds\n",
            "An index fund largely means investing in a basket of stocks that represents a particular index. So, giving an example; if an investor chooses to invest in an index fund of Nifty 50, then the amount will get invested amongst all the 50 stocks in Nifty, in the same proportion.\n",
            "5\n",
            "Alcohol stocks set to go 'high on spirits' ahead of new year?\n",
            "Among the top eight brewery players on the basis of market capitalisation, with a capping of at least Rs 750 crore, only two players have delivered negative returns in the last six months with one stock turning into a multibagger.\n",
            "6\n",
            "Weekly Top Picks: 8 stocks with consistent score improvement & upside potential of up to 35%\n",
            "The selected stocks depict a strong upward trajectory in their overall average score which is based on five key pillars i.e. earnings, fundamentals, relative valuation, risk and price momentum. This implies that there has been a significant improvement in their market outlook in the given time frame.\n",
            "7\n",
            "Beyond the crypto crash, a big squeeze jolts stock markets anew\n",
            "The biggest venue of impact was the US stock options market, where trading volumes are smashing records as investors of all stripes rush into short-dated contracts to catch up. \n",
            "8\n",
            "Strong intelligence research leads data-driven decision while investing in early-stage company\n",
            "Before we get to different methods, we set aside traditional discounted cash flow or other methods that rely on current financial metrics. Because many companies will be pre-revenue and these methods offer a conservative valuation without considering the potential for high growth.\n",
            "9\n",
            "Analysis comes after failure in investment decision: Raamdeo Agrawal\n",
            "The one thing that Agrawal believes he has learnt in his investment journey is that high growth is not possible for a very long time.\n",
            "10\n",
            "After muted IPO response, what’s in store for Five Star Business Finance on listing day?\n",
            "The company, whose issue barely managed to sail through, is commanding negligible premium in the grey markets, compared to its issue price of Rs 474 apiece.\n"
          ]
        }
      ]
    }
  ]
}